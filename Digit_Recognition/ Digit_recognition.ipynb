{
  "cells": [
    {
      "cell_type": "markdown",
      "id": "98dcaace-4a00-4a8a-9389-9978054195b8",
      "metadata": {
        "id": "98dcaace-4a00-4a8a-9389-9978054195b8"
      },
      "source": [
        "# **Digit Recognition**\n",
        "> Kaggle Dataset (MNIST Dataset)"
      ]
    },
    {
      "cell_type": "markdown",
      "id": "faabf153-8271-4d7c-9e4f-d158b92902f7",
      "metadata": {
        "id": "faabf153-8271-4d7c-9e4f-d158b92902f7"
      },
      "source": [
        "## **Download Dataset**"
      ]
    },
    {
      "cell_type": "code",
      "execution_count": null,
      "id": "b7395dcf-9460-4ba0-b8b9-395267849dcc",
      "metadata": {
        "id": "b7395dcf-9460-4ba0-b8b9-395267849dcc",
        "outputId": "dbae3036-1d8b-4f18-eb50-dceb5d7d5209"
      },
      "outputs": [
        {
          "name": "stdout",
          "output_type": "stream",
          "text": [
            "Warning: Your Kaggle API key is readable by other users on this system! To fix this, you can run 'chmod 600 /home/mamanz/.config/kaggle/kaggle.json'\n",
            "Downloading digit-recognizer.zip to /home/mamanz/data_analysis\n",
            "100%|██████████████████████████████████████| 15.3M/15.3M [00:09<00:00, 1.71MB/s]\n",
            "100%|██████████████████████████████████████| 15.3M/15.3M [00:09<00:00, 1.76MB/s]\n"
          ]
        }
      ],
      "source": [
        "!kaggle competitions download -c digit-recognizer"
      ]
    },
    {
      "cell_type": "markdown",
      "id": "42d9a5b1-a9ce-4e67-9f2d-bc14ba7ab62f",
      "metadata": {
        "id": "42d9a5b1-a9ce-4e67-9f2d-bc14ba7ab62f"
      },
      "source": [
        "## **Preparing Library**"
      ]
    },
    {
      "cell_type": "code",
      "execution_count": 1,
      "id": "0ec6ba71-8f58-4449-89ee-6bea9366699d",
      "metadata": {
        "id": "0ec6ba71-8f58-4449-89ee-6bea9366699d"
      },
      "outputs": [],
      "source": [
        "# Misc Library\n",
        "import os\n",
        "import zipfile\n",
        "\n",
        "# Pre-processing Library\n",
        "import pandas as pd\n",
        "import numpy as np\n",
        "\n",
        "# Plotting Library\n",
        "import matplotlib.pyplot as plt\n",
        "import seaborn as sns\n",
        "\n",
        "# Modeling Library (Tensorflow Framework)\n",
        "import tensorflow as tf\n",
        "from tensorflow.keras.layers import Dense\n",
        "from tensorflow.keras.layers import Conv2D\n",
        "from tensorflow.keras.layers import Flatten\n",
        "from tensorflow.keras.layers import Dropout\n",
        "from tensorflow.keras.optimizers import Adam\n",
        "from tensorflow.keras.models import Sequential\n",
        "from tensorflow.keras.layers import MaxPooling2D, MaxPool2D, BatchNormalization\n",
        "from tensorflow.keras.callbacks import EarlyStopping\n",
        "from tensorflow.keras.utils import to_categorical\n",
        "\n",
        "# Sklearn Library\n",
        "from sklearn.model_selection import train_test_split\n",
        "\n",
        "# Warning Ignore\n",
        "# os.environ['CUDA_VISIBLE_DEVICES'] = '-1'"
      ]
    },
    {
      "cell_type": "markdown",
      "id": "acbebe8a-6b3e-47c7-8bf4-b78fefaa7c95",
      "metadata": {
        "id": "acbebe8a-6b3e-47c7-8bf4-b78fefaa7c95"
      },
      "source": [
        "## **Data Extraction from Zip file**"
      ]
    },
    {
      "cell_type": "code",
      "execution_count": null,
      "id": "963fa28c-adbf-43f8-9f1d-cdd7f7f05cc6",
      "metadata": {
        "id": "963fa28c-adbf-43f8-9f1d-cdd7f7f05cc6"
      },
      "outputs": [],
      "source": [
        "# Mengatur path dari dataset\n",
        "path_data = \"digit-recognizer.zip\"\n",
        "\n",
        "with zipfile.ZipFile(path_data, 'r') as zip_ref:\n",
        "    zip_ref.extractall('.')"
      ]
    },
    {
      "cell_type": "markdown",
      "id": "b3cc98ca-ef5f-4f32-b22d-528d9e1e0823",
      "metadata": {
        "id": "b3cc98ca-ef5f-4f32-b22d-528d9e1e0823"
      },
      "source": [
        "## **Preprocessing Dataset**"
      ]
    },
    {
      "cell_type": "code",
      "execution_count": 2,
      "id": "826d99ed-2f48-454d-8b3a-10f4faa25688",
      "metadata": {
        "id": "826d99ed-2f48-454d-8b3a-10f4faa25688"
      },
      "outputs": [],
      "source": [
        "data_train = pd.read_csv(\"/content/train.csv\",low_memory=False)\n",
        "data_test = pd.read_csv(\"/content/test.csv\", low_memory=False)"
      ]
    },
    {
      "cell_type": "code",
      "execution_count": 3,
      "id": "13317612-da47-4194-926d-9c7437a8dca1",
      "metadata": {
        "id": "13317612-da47-4194-926d-9c7437a8dca1"
      },
      "outputs": [],
      "source": [
        "X_train = data_train.drop('label', axis =1).values\n",
        "y_train = data_train['label'].values"
      ]
    },
    {
      "cell_type": "code",
      "execution_count": 4,
      "id": "5220852c-7cd7-40da-8c2d-670baeb52434",
      "metadata": {
        "id": "5220852c-7cd7-40da-8c2d-670baeb52434"
      },
      "outputs": [],
      "source": [
        "X_train = X_train.reshape(-1,28,28,1).astype('float32')/255.0\n",
        "X_Test = data_test.values.reshape(-1,28,28,1).astype('float32')/255.0"
      ]
    },
    {
      "cell_type": "code",
      "execution_count": 5,
      "id": "d8f716ae-a0d1-46c6-8301-c45c9cddb159",
      "metadata": {
        "id": "d8f716ae-a0d1-46c6-8301-c45c9cddb159",
        "outputId": "e117e92e-f9e8-4eed-d668-4deb8270d631",
        "colab": {
          "base_uri": "https://localhost:8080/"
        }
      },
      "outputs": [
        {
          "output_type": "execute_result",
          "data": {
            "text/plain": [
              "array([1, 0, 4, 7, 3, 5, 8, 9, 2, 6])"
            ]
          },
          "metadata": {},
          "execution_count": 5
        }
      ],
      "source": [
        "data_train['label'].unique()"
      ]
    },
    {
      "cell_type": "code",
      "execution_count": 6,
      "id": "b461ce9c-b8bf-474a-98c9-8c2ffd579edb",
      "metadata": {
        "id": "b461ce9c-b8bf-474a-98c9-8c2ffd579edb"
      },
      "outputs": [],
      "source": [
        "y_train = to_categorical(y_train , 10)"
      ]
    },
    {
      "cell_type": "markdown",
      "id": "c0aad8df-0b2a-461a-b9a0-428088fb941e",
      "metadata": {
        "id": "c0aad8df-0b2a-461a-b9a0-428088fb941e"
      },
      "source": [
        "## **Splitting Data**"
      ]
    },
    {
      "cell_type": "code",
      "execution_count": 7,
      "id": "6b62e45b-5499-4e9c-b5b7-d2719e33ad8b",
      "metadata": {
        "id": "6b62e45b-5499-4e9c-b5b7-d2719e33ad8b"
      },
      "outputs": [],
      "source": [
        "X_train , X_val , y_train ,y_val =train_test_split(X_train,y_train,test_size=0.2 ,random_state=42)"
      ]
    },
    {
      "cell_type": "code",
      "execution_count": 8,
      "id": "220a000a-7d66-49dd-a67b-df7194e2c528",
      "metadata": {
        "id": "220a000a-7d66-49dd-a67b-df7194e2c528",
        "outputId": "94ec2532-15c8-48ae-9227-ef4851ccd4e5",
        "colab": {
          "base_uri": "https://localhost:8080/"
        }
      },
      "outputs": [
        {
          "output_type": "stream",
          "name": "stdout",
          "text": [
            "Ukuran dari dataset (Data Latih) : (33600, 28, 28, 1)\n",
            "Ukuran dari dataset (Data Uji): (8400, 28, 28, 1)\n",
            "Ukuran dari dataset (Label Latih): (33600, 10)\n",
            "Ukuran dari dataset (Label Uji): (8400, 10)\n"
          ]
        }
      ],
      "source": [
        "print(f\"Ukuran dari dataset (Data Latih) : {X_train.shape}\")\n",
        "print(f\"Ukuran dari dataset (Data Uji): {X_val.shape}\")\n",
        "print(f\"Ukuran dari dataset (Label Latih): {y_train.shape}\")\n",
        "print(f\"Ukuran dari dataset (Label Uji): {y_val.shape}\")"
      ]
    },
    {
      "cell_type": "markdown",
      "id": "7a63a972-b572-405f-b81a-c91700652a5f",
      "metadata": {
        "id": "7a63a972-b572-405f-b81a-c91700652a5f"
      },
      "source": [
        "## **Model CNN (_Convolutional Neural Network_)**"
      ]
    },
    {
      "cell_type": "code",
      "execution_count": 9,
      "id": "2d29e0ca-f7f0-4182-b5d3-777ec1cc8da3",
      "metadata": {
        "id": "2d29e0ca-f7f0-4182-b5d3-777ec1cc8da3",
        "outputId": "fb0c47fa-eb82-4bb6-f384-b2d0e7a11d9a",
        "colab": {
          "base_uri": "https://localhost:8080/",
          "height": 709
        }
      },
      "outputs": [
        {
          "output_type": "stream",
          "name": "stderr",
          "text": [
            "/usr/local/lib/python3.10/dist-packages/keras/src/layers/convolutional/base_conv.py:107: UserWarning: Do not pass an `input_shape`/`input_dim` argument to a layer. When using Sequential models, prefer using an `Input(shape)` object as the first layer in the model instead.\n",
            "  super().__init__(activity_regularizer=activity_regularizer, **kwargs)\n"
          ]
        },
        {
          "output_type": "display_data",
          "data": {
            "text/plain": [
              "\u001b[1mModel: \"sequential\"\u001b[0m\n"
            ],
            "text/html": [
              "<pre style=\"white-space:pre;overflow-x:auto;line-height:normal;font-family:Menlo,'DejaVu Sans Mono',consolas,'Courier New',monospace\"><span style=\"font-weight: bold\">Model: \"sequential\"</span>\n",
              "</pre>\n"
            ]
          },
          "metadata": {}
        },
        {
          "output_type": "display_data",
          "data": {
            "text/plain": [
              "┏━━━━━━━━━━━━━━━━━━━━━━━━━━━━━━━━━━━━━━┳━━━━━━━━━━━━━━━━━━━━━━━━━━━━━┳━━━━━━━━━━━━━━━━━┓\n",
              "┃\u001b[1m \u001b[0m\u001b[1mLayer (type)                        \u001b[0m\u001b[1m \u001b[0m┃\u001b[1m \u001b[0m\u001b[1mOutput Shape               \u001b[0m\u001b[1m \u001b[0m┃\u001b[1m \u001b[0m\u001b[1m        Param #\u001b[0m\u001b[1m \u001b[0m┃\n",
              "┡━━━━━━━━━━━━━━━━━━━━━━━━━━━━━━━━━━━━━━╇━━━━━━━━━━━━━━━━━━━━━━━━━━━━━╇━━━━━━━━━━━━━━━━━┩\n",
              "│ conv2d (\u001b[38;5;33mConv2D\u001b[0m)                      │ (\u001b[38;5;45mNone\u001b[0m, \u001b[38;5;34m28\u001b[0m, \u001b[38;5;34m28\u001b[0m, \u001b[38;5;34m32\u001b[0m)          │             \u001b[38;5;34m320\u001b[0m │\n",
              "├──────────────────────────────────────┼─────────────────────────────┼─────────────────┤\n",
              "│ max_pooling2d (\u001b[38;5;33mMaxPooling2D\u001b[0m)         │ (\u001b[38;5;45mNone\u001b[0m, \u001b[38;5;34m14\u001b[0m, \u001b[38;5;34m14\u001b[0m, \u001b[38;5;34m32\u001b[0m)          │               \u001b[38;5;34m0\u001b[0m │\n",
              "├──────────────────────────────────────┼─────────────────────────────┼─────────────────┤\n",
              "│ batch_normalization                  │ (\u001b[38;5;45mNone\u001b[0m, \u001b[38;5;34m14\u001b[0m, \u001b[38;5;34m14\u001b[0m, \u001b[38;5;34m32\u001b[0m)          │             \u001b[38;5;34m128\u001b[0m │\n",
              "│ (\u001b[38;5;33mBatchNormalization\u001b[0m)                 │                             │                 │\n",
              "├──────────────────────────────────────┼─────────────────────────────┼─────────────────┤\n",
              "│ conv2d_1 (\u001b[38;5;33mConv2D\u001b[0m)                    │ (\u001b[38;5;45mNone\u001b[0m, \u001b[38;5;34m14\u001b[0m, \u001b[38;5;34m14\u001b[0m, \u001b[38;5;34m64\u001b[0m)          │          \u001b[38;5;34m18,496\u001b[0m │\n",
              "├──────────────────────────────────────┼─────────────────────────────┼─────────────────┤\n",
              "│ max_pooling2d_1 (\u001b[38;5;33mMaxPooling2D\u001b[0m)       │ (\u001b[38;5;45mNone\u001b[0m, \u001b[38;5;34m7\u001b[0m, \u001b[38;5;34m7\u001b[0m, \u001b[38;5;34m64\u001b[0m)            │               \u001b[38;5;34m0\u001b[0m │\n",
              "├──────────────────────────────────────┼─────────────────────────────┼─────────────────┤\n",
              "│ batch_normalization_1                │ (\u001b[38;5;45mNone\u001b[0m, \u001b[38;5;34m7\u001b[0m, \u001b[38;5;34m7\u001b[0m, \u001b[38;5;34m64\u001b[0m)            │             \u001b[38;5;34m256\u001b[0m │\n",
              "│ (\u001b[38;5;33mBatchNormalization\u001b[0m)                 │                             │                 │\n",
              "├──────────────────────────────────────┼─────────────────────────────┼─────────────────┤\n",
              "│ conv2d_2 (\u001b[38;5;33mConv2D\u001b[0m)                    │ (\u001b[38;5;45mNone\u001b[0m, \u001b[38;5;34m7\u001b[0m, \u001b[38;5;34m7\u001b[0m, \u001b[38;5;34m128\u001b[0m)           │          \u001b[38;5;34m73,856\u001b[0m │\n",
              "├──────────────────────────────────────┼─────────────────────────────┼─────────────────┤\n",
              "│ max_pooling2d_2 (\u001b[38;5;33mMaxPooling2D\u001b[0m)       │ (\u001b[38;5;45mNone\u001b[0m, \u001b[38;5;34m3\u001b[0m, \u001b[38;5;34m3\u001b[0m, \u001b[38;5;34m128\u001b[0m)           │               \u001b[38;5;34m0\u001b[0m │\n",
              "├──────────────────────────────────────┼─────────────────────────────┼─────────────────┤\n",
              "│ batch_normalization_2                │ (\u001b[38;5;45mNone\u001b[0m, \u001b[38;5;34m3\u001b[0m, \u001b[38;5;34m3\u001b[0m, \u001b[38;5;34m128\u001b[0m)           │             \u001b[38;5;34m512\u001b[0m │\n",
              "│ (\u001b[38;5;33mBatchNormalization\u001b[0m)                 │                             │                 │\n",
              "├──────────────────────────────────────┼─────────────────────────────┼─────────────────┤\n",
              "│ flatten (\u001b[38;5;33mFlatten\u001b[0m)                    │ (\u001b[38;5;45mNone\u001b[0m, \u001b[38;5;34m1152\u001b[0m)                │               \u001b[38;5;34m0\u001b[0m │\n",
              "├──────────────────────────────────────┼─────────────────────────────┼─────────────────┤\n",
              "│ dropout (\u001b[38;5;33mDropout\u001b[0m)                    │ (\u001b[38;5;45mNone\u001b[0m, \u001b[38;5;34m1152\u001b[0m)                │               \u001b[38;5;34m0\u001b[0m │\n",
              "├──────────────────────────────────────┼─────────────────────────────┼─────────────────┤\n",
              "│ dense (\u001b[38;5;33mDense\u001b[0m)                        │ (\u001b[38;5;45mNone\u001b[0m, \u001b[38;5;34m128\u001b[0m)                 │         \u001b[38;5;34m147,584\u001b[0m │\n",
              "├──────────────────────────────────────┼─────────────────────────────┼─────────────────┤\n",
              "│ dropout_1 (\u001b[38;5;33mDropout\u001b[0m)                  │ (\u001b[38;5;45mNone\u001b[0m, \u001b[38;5;34m128\u001b[0m)                 │               \u001b[38;5;34m0\u001b[0m │\n",
              "├──────────────────────────────────────┼─────────────────────────────┼─────────────────┤\n",
              "│ dense_1 (\u001b[38;5;33mDense\u001b[0m)                      │ (\u001b[38;5;45mNone\u001b[0m, \u001b[38;5;34m10\u001b[0m)                  │           \u001b[38;5;34m1,290\u001b[0m │\n",
              "└──────────────────────────────────────┴─────────────────────────────┴─────────────────┘\n"
            ],
            "text/html": [
              "<pre style=\"white-space:pre;overflow-x:auto;line-height:normal;font-family:Menlo,'DejaVu Sans Mono',consolas,'Courier New',monospace\">┏━━━━━━━━━━━━━━━━━━━━━━━━━━━━━━━━━━━━━━┳━━━━━━━━━━━━━━━━━━━━━━━━━━━━━┳━━━━━━━━━━━━━━━━━┓\n",
              "┃<span style=\"font-weight: bold\"> Layer (type)                         </span>┃<span style=\"font-weight: bold\"> Output Shape                </span>┃<span style=\"font-weight: bold\">         Param # </span>┃\n",
              "┡━━━━━━━━━━━━━━━━━━━━━━━━━━━━━━━━━━━━━━╇━━━━━━━━━━━━━━━━━━━━━━━━━━━━━╇━━━━━━━━━━━━━━━━━┩\n",
              "│ conv2d (<span style=\"color: #0087ff; text-decoration-color: #0087ff\">Conv2D</span>)                      │ (<span style=\"color: #00d7ff; text-decoration-color: #00d7ff\">None</span>, <span style=\"color: #00af00; text-decoration-color: #00af00\">28</span>, <span style=\"color: #00af00; text-decoration-color: #00af00\">28</span>, <span style=\"color: #00af00; text-decoration-color: #00af00\">32</span>)          │             <span style=\"color: #00af00; text-decoration-color: #00af00\">320</span> │\n",
              "├──────────────────────────────────────┼─────────────────────────────┼─────────────────┤\n",
              "│ max_pooling2d (<span style=\"color: #0087ff; text-decoration-color: #0087ff\">MaxPooling2D</span>)         │ (<span style=\"color: #00d7ff; text-decoration-color: #00d7ff\">None</span>, <span style=\"color: #00af00; text-decoration-color: #00af00\">14</span>, <span style=\"color: #00af00; text-decoration-color: #00af00\">14</span>, <span style=\"color: #00af00; text-decoration-color: #00af00\">32</span>)          │               <span style=\"color: #00af00; text-decoration-color: #00af00\">0</span> │\n",
              "├──────────────────────────────────────┼─────────────────────────────┼─────────────────┤\n",
              "│ batch_normalization                  │ (<span style=\"color: #00d7ff; text-decoration-color: #00d7ff\">None</span>, <span style=\"color: #00af00; text-decoration-color: #00af00\">14</span>, <span style=\"color: #00af00; text-decoration-color: #00af00\">14</span>, <span style=\"color: #00af00; text-decoration-color: #00af00\">32</span>)          │             <span style=\"color: #00af00; text-decoration-color: #00af00\">128</span> │\n",
              "│ (<span style=\"color: #0087ff; text-decoration-color: #0087ff\">BatchNormalization</span>)                 │                             │                 │\n",
              "├──────────────────────────────────────┼─────────────────────────────┼─────────────────┤\n",
              "│ conv2d_1 (<span style=\"color: #0087ff; text-decoration-color: #0087ff\">Conv2D</span>)                    │ (<span style=\"color: #00d7ff; text-decoration-color: #00d7ff\">None</span>, <span style=\"color: #00af00; text-decoration-color: #00af00\">14</span>, <span style=\"color: #00af00; text-decoration-color: #00af00\">14</span>, <span style=\"color: #00af00; text-decoration-color: #00af00\">64</span>)          │          <span style=\"color: #00af00; text-decoration-color: #00af00\">18,496</span> │\n",
              "├──────────────────────────────────────┼─────────────────────────────┼─────────────────┤\n",
              "│ max_pooling2d_1 (<span style=\"color: #0087ff; text-decoration-color: #0087ff\">MaxPooling2D</span>)       │ (<span style=\"color: #00d7ff; text-decoration-color: #00d7ff\">None</span>, <span style=\"color: #00af00; text-decoration-color: #00af00\">7</span>, <span style=\"color: #00af00; text-decoration-color: #00af00\">7</span>, <span style=\"color: #00af00; text-decoration-color: #00af00\">64</span>)            │               <span style=\"color: #00af00; text-decoration-color: #00af00\">0</span> │\n",
              "├──────────────────────────────────────┼─────────────────────────────┼─────────────────┤\n",
              "│ batch_normalization_1                │ (<span style=\"color: #00d7ff; text-decoration-color: #00d7ff\">None</span>, <span style=\"color: #00af00; text-decoration-color: #00af00\">7</span>, <span style=\"color: #00af00; text-decoration-color: #00af00\">7</span>, <span style=\"color: #00af00; text-decoration-color: #00af00\">64</span>)            │             <span style=\"color: #00af00; text-decoration-color: #00af00\">256</span> │\n",
              "│ (<span style=\"color: #0087ff; text-decoration-color: #0087ff\">BatchNormalization</span>)                 │                             │                 │\n",
              "├──────────────────────────────────────┼─────────────────────────────┼─────────────────┤\n",
              "│ conv2d_2 (<span style=\"color: #0087ff; text-decoration-color: #0087ff\">Conv2D</span>)                    │ (<span style=\"color: #00d7ff; text-decoration-color: #00d7ff\">None</span>, <span style=\"color: #00af00; text-decoration-color: #00af00\">7</span>, <span style=\"color: #00af00; text-decoration-color: #00af00\">7</span>, <span style=\"color: #00af00; text-decoration-color: #00af00\">128</span>)           │          <span style=\"color: #00af00; text-decoration-color: #00af00\">73,856</span> │\n",
              "├──────────────────────────────────────┼─────────────────────────────┼─────────────────┤\n",
              "│ max_pooling2d_2 (<span style=\"color: #0087ff; text-decoration-color: #0087ff\">MaxPooling2D</span>)       │ (<span style=\"color: #00d7ff; text-decoration-color: #00d7ff\">None</span>, <span style=\"color: #00af00; text-decoration-color: #00af00\">3</span>, <span style=\"color: #00af00; text-decoration-color: #00af00\">3</span>, <span style=\"color: #00af00; text-decoration-color: #00af00\">128</span>)           │               <span style=\"color: #00af00; text-decoration-color: #00af00\">0</span> │\n",
              "├──────────────────────────────────────┼─────────────────────────────┼─────────────────┤\n",
              "│ batch_normalization_2                │ (<span style=\"color: #00d7ff; text-decoration-color: #00d7ff\">None</span>, <span style=\"color: #00af00; text-decoration-color: #00af00\">3</span>, <span style=\"color: #00af00; text-decoration-color: #00af00\">3</span>, <span style=\"color: #00af00; text-decoration-color: #00af00\">128</span>)           │             <span style=\"color: #00af00; text-decoration-color: #00af00\">512</span> │\n",
              "│ (<span style=\"color: #0087ff; text-decoration-color: #0087ff\">BatchNormalization</span>)                 │                             │                 │\n",
              "├──────────────────────────────────────┼─────────────────────────────┼─────────────────┤\n",
              "│ flatten (<span style=\"color: #0087ff; text-decoration-color: #0087ff\">Flatten</span>)                    │ (<span style=\"color: #00d7ff; text-decoration-color: #00d7ff\">None</span>, <span style=\"color: #00af00; text-decoration-color: #00af00\">1152</span>)                │               <span style=\"color: #00af00; text-decoration-color: #00af00\">0</span> │\n",
              "├──────────────────────────────────────┼─────────────────────────────┼─────────────────┤\n",
              "│ dropout (<span style=\"color: #0087ff; text-decoration-color: #0087ff\">Dropout</span>)                    │ (<span style=\"color: #00d7ff; text-decoration-color: #00d7ff\">None</span>, <span style=\"color: #00af00; text-decoration-color: #00af00\">1152</span>)                │               <span style=\"color: #00af00; text-decoration-color: #00af00\">0</span> │\n",
              "├──────────────────────────────────────┼─────────────────────────────┼─────────────────┤\n",
              "│ dense (<span style=\"color: #0087ff; text-decoration-color: #0087ff\">Dense</span>)                        │ (<span style=\"color: #00d7ff; text-decoration-color: #00d7ff\">None</span>, <span style=\"color: #00af00; text-decoration-color: #00af00\">128</span>)                 │         <span style=\"color: #00af00; text-decoration-color: #00af00\">147,584</span> │\n",
              "├──────────────────────────────────────┼─────────────────────────────┼─────────────────┤\n",
              "│ dropout_1 (<span style=\"color: #0087ff; text-decoration-color: #0087ff\">Dropout</span>)                  │ (<span style=\"color: #00d7ff; text-decoration-color: #00d7ff\">None</span>, <span style=\"color: #00af00; text-decoration-color: #00af00\">128</span>)                 │               <span style=\"color: #00af00; text-decoration-color: #00af00\">0</span> │\n",
              "├──────────────────────────────────────┼─────────────────────────────┼─────────────────┤\n",
              "│ dense_1 (<span style=\"color: #0087ff; text-decoration-color: #0087ff\">Dense</span>)                      │ (<span style=\"color: #00d7ff; text-decoration-color: #00d7ff\">None</span>, <span style=\"color: #00af00; text-decoration-color: #00af00\">10</span>)                  │           <span style=\"color: #00af00; text-decoration-color: #00af00\">1,290</span> │\n",
              "└──────────────────────────────────────┴─────────────────────────────┴─────────────────┘\n",
              "</pre>\n"
            ]
          },
          "metadata": {}
        },
        {
          "output_type": "display_data",
          "data": {
            "text/plain": [
              "\u001b[1m Total params: \u001b[0m\u001b[38;5;34m242,442\u001b[0m (947.04 KB)\n"
            ],
            "text/html": [
              "<pre style=\"white-space:pre;overflow-x:auto;line-height:normal;font-family:Menlo,'DejaVu Sans Mono',consolas,'Courier New',monospace\"><span style=\"font-weight: bold\"> Total params: </span><span style=\"color: #00af00; text-decoration-color: #00af00\">242,442</span> (947.04 KB)\n",
              "</pre>\n"
            ]
          },
          "metadata": {}
        },
        {
          "output_type": "display_data",
          "data": {
            "text/plain": [
              "\u001b[1m Trainable params: \u001b[0m\u001b[38;5;34m241,994\u001b[0m (945.29 KB)\n"
            ],
            "text/html": [
              "<pre style=\"white-space:pre;overflow-x:auto;line-height:normal;font-family:Menlo,'DejaVu Sans Mono',consolas,'Courier New',monospace\"><span style=\"font-weight: bold\"> Trainable params: </span><span style=\"color: #00af00; text-decoration-color: #00af00\">241,994</span> (945.29 KB)\n",
              "</pre>\n"
            ]
          },
          "metadata": {}
        },
        {
          "output_type": "display_data",
          "data": {
            "text/plain": [
              "\u001b[1m Non-trainable params: \u001b[0m\u001b[38;5;34m448\u001b[0m (1.75 KB)\n"
            ],
            "text/html": [
              "<pre style=\"white-space:pre;overflow-x:auto;line-height:normal;font-family:Menlo,'DejaVu Sans Mono',consolas,'Courier New',monospace\"><span style=\"font-weight: bold\"> Non-trainable params: </span><span style=\"color: #00af00; text-decoration-color: #00af00\">448</span> (1.75 KB)\n",
              "</pre>\n"
            ]
          },
          "metadata": {}
        }
      ],
      "source": [
        "model = Sequential()\n",
        "\n",
        "model.add(Conv2D(32, 3, padding = 'same', kernel_initializer = 'he_normal', activation = 'relu', input_shape = (28,28,1)))\n",
        "model.add(MaxPool2D(2))\n",
        "model.add(BatchNormalization())\n",
        "\n",
        "model.add(Conv2D(64, 3, padding = 'same', kernel_initializer = 'he_normal', activation = 'relu'))\n",
        "model.add(MaxPool2D(2))\n",
        "model.add(BatchNormalization())\n",
        "\n",
        "model.add(Conv2D(128, 3, padding = 'same', kernel_initializer = 'he_normal', activation = 'relu'))\n",
        "model.add(MaxPool2D(2))\n",
        "model.add(BatchNormalization())\n",
        "\n",
        "model.add(Flatten())\n",
        "model.add(Dropout(0.3))\n",
        "\n",
        "model.add(Dense(128, kernel_initializer = 'he_normal', activation = 'relu'))\n",
        "model.add(Dropout(0.2))\n",
        "model.add(Dense(10, activation = 'softmax'))\n",
        "\n",
        "model.summary()\n",
        "model.compile(optimizer = Adam(learning_rate = 3e-4), loss = 'categorical_crossentropy' , metrics = ['accuracy'])"
      ]
    },
    {
      "cell_type": "code",
      "execution_count": null,
      "id": "b4f55d7f-8574-499f-9881-cf65ec264631",
      "metadata": {
        "id": "b4f55d7f-8574-499f-9881-cf65ec264631"
      },
      "outputs": [],
      "source": [
        "# model.compile(optimizer=Adam(learning_rate=0.001),\n",
        "#               loss='categorical_crossentropy',\n",
        "#               metrics=['accuracy'])\n",
        "\n",
        "# model.summary()"
      ]
    },
    {
      "cell_type": "code",
      "execution_count": 10,
      "id": "c3e80810-b036-422d-a3fb-d53f1fbc4a75",
      "metadata": {
        "id": "c3e80810-b036-422d-a3fb-d53f1fbc4a75"
      },
      "outputs": [],
      "source": [
        "early_stopping = EarlyStopping(monitor='val_accuracy',\n",
        "                               patience=5,\n",
        "                               restore_best_weights=True)"
      ]
    },
    {
      "cell_type": "markdown",
      "id": "c596ffaa-ba99-4d60-803a-d55b6cec9cf9",
      "metadata": {
        "id": "c596ffaa-ba99-4d60-803a-d55b6cec9cf9"
      },
      "source": [
        "## **Training Model with Dataset**"
      ]
    },
    {
      "cell_type": "code",
      "execution_count": 11,
      "id": "0a50de8c-a69d-4b18-93c7-5ec6e2448614",
      "metadata": {
        "id": "0a50de8c-a69d-4b18-93c7-5ec6e2448614",
        "outputId": "58329762-b197-4076-8e60-8d4efd577fc8",
        "colab": {
          "base_uri": "https://localhost:8080/"
        }
      },
      "outputs": [
        {
          "output_type": "stream",
          "name": "stdout",
          "text": [
            "Epoch 1/100\n",
            "\u001b[1m525/525\u001b[0m \u001b[32m━━━━━━━━━━━━━━━━━━━━\u001b[0m\u001b[37m\u001b[0m \u001b[1m11s\u001b[0m 8ms/step - accuracy: 0.8027 - loss: 0.6291 - val_accuracy: 0.9755 - val_loss: 0.0771\n",
            "Epoch 2/100\n",
            "\u001b[1m525/525\u001b[0m \u001b[32m━━━━━━━━━━━━━━━━━━━━\u001b[0m\u001b[37m\u001b[0m \u001b[1m3s\u001b[0m 4ms/step - accuracy: 0.9723 - loss: 0.0949 - val_accuracy: 0.9821 - val_loss: 0.0561\n",
            "Epoch 3/100\n",
            "\u001b[1m525/525\u001b[0m \u001b[32m━━━━━━━━━━━━━━━━━━━━\u001b[0m\u001b[37m\u001b[0m \u001b[1m3s\u001b[0m 4ms/step - accuracy: 0.9835 - loss: 0.0547 - val_accuracy: 0.9854 - val_loss: 0.0443\n",
            "Epoch 4/100\n",
            "\u001b[1m525/525\u001b[0m \u001b[32m━━━━━━━━━━━━━━━━━━━━\u001b[0m\u001b[37m\u001b[0m \u001b[1m3s\u001b[0m 4ms/step - accuracy: 0.9876 - loss: 0.0383 - val_accuracy: 0.9860 - val_loss: 0.0471\n",
            "Epoch 5/100\n",
            "\u001b[1m525/525\u001b[0m \u001b[32m━━━━━━━━━━━━━━━━━━━━\u001b[0m\u001b[37m\u001b[0m \u001b[1m2s\u001b[0m 4ms/step - accuracy: 0.9894 - loss: 0.0314 - val_accuracy: 0.9885 - val_loss: 0.0388\n",
            "Epoch 6/100\n",
            "\u001b[1m525/525\u001b[0m \u001b[32m━━━━━━━━━━━━━━━━━━━━\u001b[0m\u001b[37m\u001b[0m \u001b[1m2s\u001b[0m 4ms/step - accuracy: 0.9920 - loss: 0.0225 - val_accuracy: 0.9893 - val_loss: 0.0373\n",
            "Epoch 7/100\n",
            "\u001b[1m525/525\u001b[0m \u001b[32m━━━━━━━━━━━━━━━━━━━━\u001b[0m\u001b[37m\u001b[0m \u001b[1m2s\u001b[0m 4ms/step - accuracy: 0.9932 - loss: 0.0204 - val_accuracy: 0.9894 - val_loss: 0.0344\n",
            "Epoch 8/100\n",
            "\u001b[1m525/525\u001b[0m \u001b[32m━━━━━━━━━━━━━━━━━━━━\u001b[0m\u001b[37m\u001b[0m \u001b[1m2s\u001b[0m 4ms/step - accuracy: 0.9947 - loss: 0.0165 - val_accuracy: 0.9888 - val_loss: 0.0413\n",
            "Epoch 9/100\n",
            "\u001b[1m525/525\u001b[0m \u001b[32m━━━━━━━━━━━━━━━━━━━━\u001b[0m\u001b[37m\u001b[0m \u001b[1m2s\u001b[0m 4ms/step - accuracy: 0.9953 - loss: 0.0147 - val_accuracy: 0.9901 - val_loss: 0.0364\n",
            "Epoch 10/100\n",
            "\u001b[1m525/525\u001b[0m \u001b[32m━━━━━━━━━━━━━━━━━━━━\u001b[0m\u001b[37m\u001b[0m \u001b[1m3s\u001b[0m 4ms/step - accuracy: 0.9957 - loss: 0.0121 - val_accuracy: 0.9906 - val_loss: 0.0382\n",
            "Epoch 11/100\n",
            "\u001b[1m525/525\u001b[0m \u001b[32m━━━━━━━━━━━━━━━━━━━━\u001b[0m\u001b[37m\u001b[0m \u001b[1m3s\u001b[0m 4ms/step - accuracy: 0.9958 - loss: 0.0120 - val_accuracy: 0.9899 - val_loss: 0.0378\n",
            "Epoch 12/100\n",
            "\u001b[1m525/525\u001b[0m \u001b[32m━━━━━━━━━━━━━━━━━━━━\u001b[0m\u001b[37m\u001b[0m \u001b[1m3s\u001b[0m 5ms/step - accuracy: 0.9961 - loss: 0.0101 - val_accuracy: 0.9894 - val_loss: 0.0421\n",
            "Epoch 13/100\n",
            "\u001b[1m525/525\u001b[0m \u001b[32m━━━━━━━━━━━━━━━━━━━━\u001b[0m\u001b[37m\u001b[0m \u001b[1m2s\u001b[0m 4ms/step - accuracy: 0.9961 - loss: 0.0119 - val_accuracy: 0.9906 - val_loss: 0.0386\n",
            "Epoch 14/100\n",
            "\u001b[1m525/525\u001b[0m \u001b[32m━━━━━━━━━━━━━━━━━━━━\u001b[0m\u001b[37m\u001b[0m \u001b[1m2s\u001b[0m 4ms/step - accuracy: 0.9966 - loss: 0.0100 - val_accuracy: 0.9907 - val_loss: 0.0358\n",
            "Epoch 15/100\n",
            "\u001b[1m525/525\u001b[0m \u001b[32m━━━━━━━━━━━━━━━━━━━━\u001b[0m\u001b[37m\u001b[0m \u001b[1m2s\u001b[0m 4ms/step - accuracy: 0.9969 - loss: 0.0087 - val_accuracy: 0.9905 - val_loss: 0.0368\n",
            "Epoch 16/100\n",
            "\u001b[1m525/525\u001b[0m \u001b[32m━━━━━━━━━━━━━━━━━━━━\u001b[0m\u001b[37m\u001b[0m \u001b[1m2s\u001b[0m 4ms/step - accuracy: 0.9981 - loss: 0.0059 - val_accuracy: 0.9908 - val_loss: 0.0363\n",
            "Epoch 17/100\n",
            "\u001b[1m525/525\u001b[0m \u001b[32m━━━━━━━━━━━━━━━━━━━━\u001b[0m\u001b[37m\u001b[0m \u001b[1m4s\u001b[0m 6ms/step - accuracy: 0.9984 - loss: 0.0059 - val_accuracy: 0.9911 - val_loss: 0.0368\n",
            "Epoch 18/100\n",
            "\u001b[1m525/525\u001b[0m \u001b[32m━━━━━━━━━━━━━━━━━━━━\u001b[0m\u001b[37m\u001b[0m \u001b[1m4s\u001b[0m 4ms/step - accuracy: 0.9977 - loss: 0.0062 - val_accuracy: 0.9902 - val_loss: 0.0414\n",
            "Epoch 19/100\n",
            "\u001b[1m525/525\u001b[0m \u001b[32m━━━━━━━━━━━━━━━━━━━━\u001b[0m\u001b[37m\u001b[0m \u001b[1m2s\u001b[0m 4ms/step - accuracy: 0.9981 - loss: 0.0057 - val_accuracy: 0.9913 - val_loss: 0.0429\n",
            "Epoch 20/100\n",
            "\u001b[1m525/525\u001b[0m \u001b[32m━━━━━━━━━━━━━━━━━━━━\u001b[0m\u001b[37m\u001b[0m \u001b[1m2s\u001b[0m 4ms/step - accuracy: 0.9977 - loss: 0.0083 - val_accuracy: 0.9911 - val_loss: 0.0380\n",
            "Epoch 21/100\n",
            "\u001b[1m525/525\u001b[0m \u001b[32m━━━━━━━━━━━━━━━━━━━━\u001b[0m\u001b[37m\u001b[0m \u001b[1m2s\u001b[0m 4ms/step - accuracy: 0.9972 - loss: 0.0076 - val_accuracy: 0.9907 - val_loss: 0.0431\n",
            "Epoch 22/100\n",
            "\u001b[1m525/525\u001b[0m \u001b[32m━━━━━━━━━━━━━━━━━━━━\u001b[0m\u001b[37m\u001b[0m \u001b[1m3s\u001b[0m 5ms/step - accuracy: 0.9976 - loss: 0.0074 - val_accuracy: 0.9900 - val_loss: 0.0389\n",
            "Epoch 23/100\n",
            "\u001b[1m525/525\u001b[0m \u001b[32m━━━━━━━━━━━━━━━━━━━━\u001b[0m\u001b[37m\u001b[0m \u001b[1m4s\u001b[0m 4ms/step - accuracy: 0.9984 - loss: 0.0045 - val_accuracy: 0.9900 - val_loss: 0.0413\n",
            "Epoch 24/100\n",
            "\u001b[1m525/525\u001b[0m \u001b[32m━━━━━━━━━━━━━━━━━━━━\u001b[0m\u001b[37m\u001b[0m \u001b[1m2s\u001b[0m 4ms/step - accuracy: 0.9981 - loss: 0.0051 - val_accuracy: 0.9895 - val_loss: 0.0499\n"
          ]
        }
      ],
      "source": [
        "history = model.fit(X_train, y_train,\n",
        "                    validation_data=(X_val, y_val),\n",
        "                    epochs=100,\n",
        "                    batch_size=64,\n",
        "                    callbacks=[early_stopping])"
      ]
<<<<<<< HEAD
     },
     "metadata": {},
     "output_type": "display_data"
    }
   ],
   "source": [
    "# Trigger model sequential\n",
    "model = Sequential()\n",
    "\n",
    "# Konvolusi layer 1\n",
    "model.add(Conv2D(filters=64, kernel_size=3, padding='same', activation='relu', input_shape=(28,28,1)))\n",
    "model.add(Conv2D(filters=64, kernel_size=3, padding='same', activation='relu'))\n",
    "model.add(Conv2D(filters=128, kernel_size=3, padding='same', activation='relu'))\n",
    "model.add(MaxPooling2D(pool_size=2))\n",
    "\n",
    "# Konvolusi layer 2\n",
    "model.add(Conv2D(filters=128, kernel_size=3, padding='same', activation='relu'))\n",
    "model.add(Conv2D(filters=192, kernel_size=3, padding='same', activation='relu'))\n",
    "model.add(MaxPooling2D(pool_size=2))\n",
    "\n",
    "# Konvolusi layer 3\n",
    "model.add(Conv2D(filters=192, kernel_size=5, padding='same', activation='relu'))\n",
    "model.add(MaxPooling2D(pool_size=2, padding='same'))\n",
    "\n",
    "# Flatten \n",
    "model.add(Flatten())\n",
    "\n",
    "# NN Functional\n",
    "model.add(Dense(256, activation='relu'))\n",
    "model.add(Dense(10, activation='softmax'))\n",
    "\n",
    "# Summary Model Sequential\n",
    "model.summary()\n",
    "\n",
    "# Compile model \n",
    "model.compile(optimizer = Adam(learning_rate = 3e-4), loss = 'sparse_categorical_crossentropy' , metrics = ['accuracy'])"
   ]
  },
  {
   "cell_type": "code",
   "execution_count": 20,
   "id": "c3e80810-b036-422d-a3fb-d53f1fbc4a75",
   "metadata": {},
   "outputs": [],
   "source": [
    "# Using Early Stopping\n",
    "early_stopping = EarlyStopping(monitor='val_accuracy',\n",
    "                               patience=5,\n",
    "                               restore_best_weights=True)\n",
    "\n",
    "# Using ReduceOnPlateau\n",
    "reduce_lr = tf.keras.callbacks.ReduceLROnPlateau(monitor='loss', factor=0.3, verbose=1,\n",
    "                              patience=2, min_lr=0.00000001)"
   ]
  },
  {
   "cell_type": "markdown",
   "id": "c596ffaa-ba99-4d60-803a-d55b6cec9cf9",
   "metadata": {},
   "source": [
    "## **Training Model with Dataset**"
   ]
  },
  {
   "cell_type": "code",
   "execution_count": 21,
   "id": "0a50de8c-a69d-4b18-93c7-5ec6e2448614",
   "metadata": {},
   "outputs": [
    {
     "name": "stdout",
     "output_type": "stream",
     "text": [
      "Epoch 1/100\n"
     ]
    },
    {
     "name": "stderr",
     "output_type": "stream",
     "text": [
      "2024-12-29 13:28:46.183040: W external/local_xla/xla/tsl/framework/cpu_allocator_impl.cc:83] Allocation of 105369600 exceeds 10% of free system memory.\n"
     ]
    },
    {
     "name": "stdout",
     "output_type": "stream",
     "text": [
      "\u001b[1m  1/525\u001b[0m \u001b[37m━━━━━━━━━━━━━━━━━━━━\u001b[0m \u001b[1m1:22:17\u001b[0m 9s/step - accuracy: 0.0312 - loss: 3.3428"
     ]
    },
    {
     "name": "stderr",
     "output_type": "stream",
     "text": [
      "2024-12-29 13:28:55.849490: W external/local_xla/xla/tsl/framework/cpu_allocator_impl.cc:83] Allocation of 20321280 exceeds 10% of free system memory.\n",
      "2024-12-29 13:28:55.850952: W external/local_xla/xla/tsl/framework/cpu_allocator_impl.cc:83] Allocation of 20321280 exceeds 10% of free system memory.\n"
     ]
    },
    {
     "name": "stdout",
     "output_type": "stream",
     "text": [
      "\u001b[1m  2/525\u001b[0m \u001b[37m━━━━━━━━━━━━━━━━━━━━\u001b[0m \u001b[1m2:12\u001b[0m 254ms/step - accuracy: 0.0586 - loss: 3.2152"
     ]
    },
    {
     "name": "stderr",
     "output_type": "stream",
     "text": [
      "2024-12-29 13:28:56.122952: W external/local_xla/xla/tsl/framework/cpu_allocator_impl.cc:83] Allocation of 20321280 exceeds 10% of free system memory.\n",
      "2024-12-29 13:28:56.124803: W external/local_xla/xla/tsl/framework/cpu_allocator_impl.cc:83] Allocation of 20321280 exceeds 10% of free system memory.\n"
     ]
    },
    {
     "name": "stdout",
     "output_type": "stream",
     "text": [
      "\u001b[1m525/525\u001b[0m \u001b[32m━━━━━━━━━━━━━━━━━━━━\u001b[0m\u001b[37m\u001b[0m \u001b[1m110s\u001b[0m 193ms/step - accuracy: 0.8715 - loss: 0.4023 - val_accuracy: 0.9782 - val_loss: 0.0667\n",
      "Epoch 2/100\n",
      "\u001b[1m525/525\u001b[0m \u001b[32m━━━━━━━━━━━━━━━━━━━━\u001b[0m\u001b[37m\u001b[0m \u001b[1m118s\u001b[0m 224ms/step - accuracy: 0.9808 - loss: 0.0599 - val_accuracy: 0.9857 - val_loss: 0.0446\n",
      "Epoch 3/100\n",
      "\u001b[1m525/525\u001b[0m \u001b[32m━━━━━━━━━━━━━━━━━━━━\u001b[0m\u001b[37m\u001b[0m \u001b[1m131s\u001b[0m 204ms/step - accuracy: 0.9870 - loss: 0.0414 - val_accuracy: 0.9868 - val_loss: 0.0408\n",
      "Epoch 4/100\n",
      "\u001b[1m508/525\u001b[0m \u001b[32m━━━━━━━━━━━━━━━━━━━\u001b[0m\u001b[37m━\u001b[0m \u001b[1m3s\u001b[0m 221ms/step - accuracy: 0.9905 - loss: 0.0301"
     ]
    },
    {
     "ename": "KeyboardInterrupt",
     "evalue": "",
     "output_type": "error",
     "traceback": [
      "\u001b[0;31m---------------------------------------------------------------------------\u001b[0m",
      "\u001b[0;31mKeyboardInterrupt\u001b[0m                         Traceback (most recent call last)",
      "Cell \u001b[0;32mIn[21], line 1\u001b[0m\n\u001b[0;32m----> 1\u001b[0m history \u001b[38;5;241m=\u001b[39m \u001b[43mmodel\u001b[49m\u001b[38;5;241;43m.\u001b[39;49m\u001b[43mfit\u001b[49m\u001b[43m(\u001b[49m\u001b[43mX_train\u001b[49m\u001b[43m,\u001b[49m\u001b[43m \u001b[49m\u001b[43my_train\u001b[49m\u001b[43m,\u001b[49m\n\u001b[1;32m      2\u001b[0m \u001b[43m                    \u001b[49m\u001b[43mvalidation_data\u001b[49m\u001b[38;5;241;43m=\u001b[39;49m\u001b[43m(\u001b[49m\u001b[43mX_val\u001b[49m\u001b[43m,\u001b[49m\u001b[43m \u001b[49m\u001b[43my_val\u001b[49m\u001b[43m)\u001b[49m\u001b[43m,\u001b[49m\n\u001b[1;32m      3\u001b[0m \u001b[43m                    \u001b[49m\u001b[43mepochs\u001b[49m\u001b[38;5;241;43m=\u001b[39;49m\u001b[38;5;241;43m100\u001b[39;49m\u001b[43m,\u001b[49m\n\u001b[1;32m      4\u001b[0m \u001b[43m                    \u001b[49m\u001b[43mbatch_size\u001b[49m\u001b[38;5;241;43m=\u001b[39;49m\u001b[38;5;241;43m64\u001b[39;49m\u001b[43m,\u001b[49m\n\u001b[1;32m      5\u001b[0m \u001b[43m                    \u001b[49m\u001b[43mcallbacks\u001b[49m\u001b[38;5;241;43m=\u001b[39;49m\u001b[43m[\u001b[49m\u001b[43mearly_stopping\u001b[49m\u001b[43m]\u001b[49m\u001b[43m)\u001b[49m\n",
      "File \u001b[0;32m~/miniconda3/lib/python3.12/site-packages/keras/src/utils/traceback_utils.py:117\u001b[0m, in \u001b[0;36mfilter_traceback.<locals>.error_handler\u001b[0;34m(*args, **kwargs)\u001b[0m\n\u001b[1;32m    115\u001b[0m filtered_tb \u001b[38;5;241m=\u001b[39m \u001b[38;5;28;01mNone\u001b[39;00m\n\u001b[1;32m    116\u001b[0m \u001b[38;5;28;01mtry\u001b[39;00m:\n\u001b[0;32m--> 117\u001b[0m     \u001b[38;5;28;01mreturn\u001b[39;00m \u001b[43mfn\u001b[49m\u001b[43m(\u001b[49m\u001b[38;5;241;43m*\u001b[39;49m\u001b[43margs\u001b[49m\u001b[43m,\u001b[49m\u001b[43m \u001b[49m\u001b[38;5;241;43m*\u001b[39;49m\u001b[38;5;241;43m*\u001b[39;49m\u001b[43mkwargs\u001b[49m\u001b[43m)\u001b[49m\n\u001b[1;32m    118\u001b[0m \u001b[38;5;28;01mexcept\u001b[39;00m \u001b[38;5;167;01mException\u001b[39;00m \u001b[38;5;28;01mas\u001b[39;00m e:\n\u001b[1;32m    119\u001b[0m     filtered_tb \u001b[38;5;241m=\u001b[39m _process_traceback_frames(e\u001b[38;5;241m.\u001b[39m__traceback__)\n",
      "File \u001b[0;32m~/miniconda3/lib/python3.12/site-packages/keras/src/backend/tensorflow/trainer.py:368\u001b[0m, in \u001b[0;36mTensorFlowTrainer.fit\u001b[0;34m(self, x, y, batch_size, epochs, verbose, callbacks, validation_split, validation_data, shuffle, class_weight, sample_weight, initial_epoch, steps_per_epoch, validation_steps, validation_batch_size, validation_freq)\u001b[0m\n\u001b[1;32m    366\u001b[0m \u001b[38;5;28;01mfor\u001b[39;00m step, iterator \u001b[38;5;129;01min\u001b[39;00m epoch_iterator:\n\u001b[1;32m    367\u001b[0m     callbacks\u001b[38;5;241m.\u001b[39mon_train_batch_begin(step)\n\u001b[0;32m--> 368\u001b[0m     logs \u001b[38;5;241m=\u001b[39m \u001b[38;5;28;43mself\u001b[39;49m\u001b[38;5;241;43m.\u001b[39;49m\u001b[43mtrain_function\u001b[49m\u001b[43m(\u001b[49m\u001b[43miterator\u001b[49m\u001b[43m)\u001b[49m\n\u001b[1;32m    369\u001b[0m     callbacks\u001b[38;5;241m.\u001b[39mon_train_batch_end(step, logs)\n\u001b[1;32m    370\u001b[0m     \u001b[38;5;28;01mif\u001b[39;00m \u001b[38;5;28mself\u001b[39m\u001b[38;5;241m.\u001b[39mstop_training:\n",
      "File \u001b[0;32m~/miniconda3/lib/python3.12/site-packages/keras/src/backend/tensorflow/trainer.py:216\u001b[0m, in \u001b[0;36mTensorFlowTrainer._make_function.<locals>.function\u001b[0;34m(iterator)\u001b[0m\n\u001b[1;32m    212\u001b[0m \u001b[38;5;28;01mdef\u001b[39;00m \u001b[38;5;21mfunction\u001b[39m(iterator):\n\u001b[1;32m    213\u001b[0m     \u001b[38;5;28;01mif\u001b[39;00m \u001b[38;5;28misinstance\u001b[39m(\n\u001b[1;32m    214\u001b[0m         iterator, (tf\u001b[38;5;241m.\u001b[39mdata\u001b[38;5;241m.\u001b[39mIterator, tf\u001b[38;5;241m.\u001b[39mdistribute\u001b[38;5;241m.\u001b[39mDistributedIterator)\n\u001b[1;32m    215\u001b[0m     ):\n\u001b[0;32m--> 216\u001b[0m         opt_outputs \u001b[38;5;241m=\u001b[39m \u001b[43mmulti_step_on_iterator\u001b[49m\u001b[43m(\u001b[49m\u001b[43miterator\u001b[49m\u001b[43m)\u001b[49m\n\u001b[1;32m    217\u001b[0m         \u001b[38;5;28;01mif\u001b[39;00m \u001b[38;5;129;01mnot\u001b[39;00m opt_outputs\u001b[38;5;241m.\u001b[39mhas_value():\n\u001b[1;32m    218\u001b[0m             \u001b[38;5;28;01mraise\u001b[39;00m \u001b[38;5;167;01mStopIteration\u001b[39;00m\n",
      "File \u001b[0;32m~/miniconda3/lib/python3.12/site-packages/tensorflow/python/util/traceback_utils.py:150\u001b[0m, in \u001b[0;36mfilter_traceback.<locals>.error_handler\u001b[0;34m(*args, **kwargs)\u001b[0m\n\u001b[1;32m    148\u001b[0m filtered_tb \u001b[38;5;241m=\u001b[39m \u001b[38;5;28;01mNone\u001b[39;00m\n\u001b[1;32m    149\u001b[0m \u001b[38;5;28;01mtry\u001b[39;00m:\n\u001b[0;32m--> 150\u001b[0m   \u001b[38;5;28;01mreturn\u001b[39;00m \u001b[43mfn\u001b[49m\u001b[43m(\u001b[49m\u001b[38;5;241;43m*\u001b[39;49m\u001b[43margs\u001b[49m\u001b[43m,\u001b[49m\u001b[43m \u001b[49m\u001b[38;5;241;43m*\u001b[39;49m\u001b[38;5;241;43m*\u001b[39;49m\u001b[43mkwargs\u001b[49m\u001b[43m)\u001b[49m\n\u001b[1;32m    151\u001b[0m \u001b[38;5;28;01mexcept\u001b[39;00m \u001b[38;5;167;01mException\u001b[39;00m \u001b[38;5;28;01mas\u001b[39;00m e:\n\u001b[1;32m    152\u001b[0m   filtered_tb \u001b[38;5;241m=\u001b[39m _process_traceback_frames(e\u001b[38;5;241m.\u001b[39m__traceback__)\n",
      "File \u001b[0;32m~/miniconda3/lib/python3.12/site-packages/tensorflow/python/eager/polymorphic_function/polymorphic_function.py:833\u001b[0m, in \u001b[0;36mFunction.__call__\u001b[0;34m(self, *args, **kwds)\u001b[0m\n\u001b[1;32m    830\u001b[0m compiler \u001b[38;5;241m=\u001b[39m \u001b[38;5;124m\"\u001b[39m\u001b[38;5;124mxla\u001b[39m\u001b[38;5;124m\"\u001b[39m \u001b[38;5;28;01mif\u001b[39;00m \u001b[38;5;28mself\u001b[39m\u001b[38;5;241m.\u001b[39m_jit_compile \u001b[38;5;28;01melse\u001b[39;00m \u001b[38;5;124m\"\u001b[39m\u001b[38;5;124mnonXla\u001b[39m\u001b[38;5;124m\"\u001b[39m\n\u001b[1;32m    832\u001b[0m \u001b[38;5;28;01mwith\u001b[39;00m OptionalXlaContext(\u001b[38;5;28mself\u001b[39m\u001b[38;5;241m.\u001b[39m_jit_compile):\n\u001b[0;32m--> 833\u001b[0m   result \u001b[38;5;241m=\u001b[39m \u001b[38;5;28;43mself\u001b[39;49m\u001b[38;5;241;43m.\u001b[39;49m\u001b[43m_call\u001b[49m\u001b[43m(\u001b[49m\u001b[38;5;241;43m*\u001b[39;49m\u001b[43margs\u001b[49m\u001b[43m,\u001b[49m\u001b[43m \u001b[49m\u001b[38;5;241;43m*\u001b[39;49m\u001b[38;5;241;43m*\u001b[39;49m\u001b[43mkwds\u001b[49m\u001b[43m)\u001b[49m\n\u001b[1;32m    835\u001b[0m new_tracing_count \u001b[38;5;241m=\u001b[39m \u001b[38;5;28mself\u001b[39m\u001b[38;5;241m.\u001b[39mexperimental_get_tracing_count()\n\u001b[1;32m    836\u001b[0m without_tracing \u001b[38;5;241m=\u001b[39m (tracing_count \u001b[38;5;241m==\u001b[39m new_tracing_count)\n",
      "File \u001b[0;32m~/miniconda3/lib/python3.12/site-packages/tensorflow/python/eager/polymorphic_function/polymorphic_function.py:878\u001b[0m, in \u001b[0;36mFunction._call\u001b[0;34m(self, *args, **kwds)\u001b[0m\n\u001b[1;32m    875\u001b[0m \u001b[38;5;28mself\u001b[39m\u001b[38;5;241m.\u001b[39m_lock\u001b[38;5;241m.\u001b[39mrelease()\n\u001b[1;32m    876\u001b[0m \u001b[38;5;66;03m# In this case we have not created variables on the first call. So we can\u001b[39;00m\n\u001b[1;32m    877\u001b[0m \u001b[38;5;66;03m# run the first trace but we should fail if variables are created.\u001b[39;00m\n\u001b[0;32m--> 878\u001b[0m results \u001b[38;5;241m=\u001b[39m \u001b[43mtracing_compilation\u001b[49m\u001b[38;5;241;43m.\u001b[39;49m\u001b[43mcall_function\u001b[49m\u001b[43m(\u001b[49m\n\u001b[1;32m    879\u001b[0m \u001b[43m    \u001b[49m\u001b[43margs\u001b[49m\u001b[43m,\u001b[49m\u001b[43m \u001b[49m\u001b[43mkwds\u001b[49m\u001b[43m,\u001b[49m\u001b[43m \u001b[49m\u001b[38;5;28;43mself\u001b[39;49m\u001b[38;5;241;43m.\u001b[39;49m\u001b[43m_variable_creation_config\u001b[49m\n\u001b[1;32m    880\u001b[0m \u001b[43m\u001b[49m\u001b[43m)\u001b[49m\n\u001b[1;32m    881\u001b[0m \u001b[38;5;28;01mif\u001b[39;00m \u001b[38;5;28mself\u001b[39m\u001b[38;5;241m.\u001b[39m_created_variables:\n\u001b[1;32m    882\u001b[0m   \u001b[38;5;28;01mraise\u001b[39;00m \u001b[38;5;167;01mValueError\u001b[39;00m(\u001b[38;5;124m\"\u001b[39m\u001b[38;5;124mCreating variables on a non-first call to a function\u001b[39m\u001b[38;5;124m\"\u001b[39m\n\u001b[1;32m    883\u001b[0m                    \u001b[38;5;124m\"\u001b[39m\u001b[38;5;124m decorated with tf.function.\u001b[39m\u001b[38;5;124m\"\u001b[39m)\n",
      "File \u001b[0;32m~/miniconda3/lib/python3.12/site-packages/tensorflow/python/eager/polymorphic_function/tracing_compilation.py:139\u001b[0m, in \u001b[0;36mcall_function\u001b[0;34m(args, kwargs, tracing_options)\u001b[0m\n\u001b[1;32m    137\u001b[0m bound_args \u001b[38;5;241m=\u001b[39m function\u001b[38;5;241m.\u001b[39mfunction_type\u001b[38;5;241m.\u001b[39mbind(\u001b[38;5;241m*\u001b[39margs, \u001b[38;5;241m*\u001b[39m\u001b[38;5;241m*\u001b[39mkwargs)\n\u001b[1;32m    138\u001b[0m flat_inputs \u001b[38;5;241m=\u001b[39m function\u001b[38;5;241m.\u001b[39mfunction_type\u001b[38;5;241m.\u001b[39munpack_inputs(bound_args)\n\u001b[0;32m--> 139\u001b[0m \u001b[38;5;28;01mreturn\u001b[39;00m \u001b[43mfunction\u001b[49m\u001b[38;5;241;43m.\u001b[39;49m\u001b[43m_call_flat\u001b[49m\u001b[43m(\u001b[49m\u001b[43m  \u001b[49m\u001b[38;5;66;43;03m# pylint: disable=protected-access\u001b[39;49;00m\n\u001b[1;32m    140\u001b[0m \u001b[43m    \u001b[49m\u001b[43mflat_inputs\u001b[49m\u001b[43m,\u001b[49m\u001b[43m \u001b[49m\u001b[43mcaptured_inputs\u001b[49m\u001b[38;5;241;43m=\u001b[39;49m\u001b[43mfunction\u001b[49m\u001b[38;5;241;43m.\u001b[39;49m\u001b[43mcaptured_inputs\u001b[49m\n\u001b[1;32m    141\u001b[0m \u001b[43m\u001b[49m\u001b[43m)\u001b[49m\n",
      "File \u001b[0;32m~/miniconda3/lib/python3.12/site-packages/tensorflow/python/eager/polymorphic_function/concrete_function.py:1322\u001b[0m, in \u001b[0;36mConcreteFunction._call_flat\u001b[0;34m(self, tensor_inputs, captured_inputs)\u001b[0m\n\u001b[1;32m   1318\u001b[0m possible_gradient_type \u001b[38;5;241m=\u001b[39m gradients_util\u001b[38;5;241m.\u001b[39mPossibleTapeGradientTypes(args)\n\u001b[1;32m   1319\u001b[0m \u001b[38;5;28;01mif\u001b[39;00m (possible_gradient_type \u001b[38;5;241m==\u001b[39m gradients_util\u001b[38;5;241m.\u001b[39mPOSSIBLE_GRADIENT_TYPES_NONE\n\u001b[1;32m   1320\u001b[0m     \u001b[38;5;129;01mand\u001b[39;00m executing_eagerly):\n\u001b[1;32m   1321\u001b[0m   \u001b[38;5;66;03m# No tape is watching; skip to running the function.\u001b[39;00m\n\u001b[0;32m-> 1322\u001b[0m   \u001b[38;5;28;01mreturn\u001b[39;00m \u001b[38;5;28;43mself\u001b[39;49m\u001b[38;5;241;43m.\u001b[39;49m\u001b[43m_inference_function\u001b[49m\u001b[38;5;241;43m.\u001b[39;49m\u001b[43mcall_preflattened\u001b[49m\u001b[43m(\u001b[49m\u001b[43margs\u001b[49m\u001b[43m)\u001b[49m\n\u001b[1;32m   1323\u001b[0m forward_backward \u001b[38;5;241m=\u001b[39m \u001b[38;5;28mself\u001b[39m\u001b[38;5;241m.\u001b[39m_select_forward_and_backward_functions(\n\u001b[1;32m   1324\u001b[0m     args,\n\u001b[1;32m   1325\u001b[0m     possible_gradient_type,\n\u001b[1;32m   1326\u001b[0m     executing_eagerly)\n\u001b[1;32m   1327\u001b[0m forward_function, args_with_tangents \u001b[38;5;241m=\u001b[39m forward_backward\u001b[38;5;241m.\u001b[39mforward()\n",
      "File \u001b[0;32m~/miniconda3/lib/python3.12/site-packages/tensorflow/python/eager/polymorphic_function/atomic_function.py:216\u001b[0m, in \u001b[0;36mAtomicFunction.call_preflattened\u001b[0;34m(self, args)\u001b[0m\n\u001b[1;32m    214\u001b[0m \u001b[38;5;28;01mdef\u001b[39;00m \u001b[38;5;21mcall_preflattened\u001b[39m(\u001b[38;5;28mself\u001b[39m, args: Sequence[core\u001b[38;5;241m.\u001b[39mTensor]) \u001b[38;5;241m-\u001b[39m\u001b[38;5;241m>\u001b[39m Any:\n\u001b[1;32m    215\u001b[0m \u001b[38;5;250m  \u001b[39m\u001b[38;5;124;03m\"\"\"Calls with flattened tensor inputs and returns the structured output.\"\"\"\u001b[39;00m\n\u001b[0;32m--> 216\u001b[0m   flat_outputs \u001b[38;5;241m=\u001b[39m \u001b[38;5;28;43mself\u001b[39;49m\u001b[38;5;241;43m.\u001b[39;49m\u001b[43mcall_flat\u001b[49m\u001b[43m(\u001b[49m\u001b[38;5;241;43m*\u001b[39;49m\u001b[43margs\u001b[49m\u001b[43m)\u001b[49m\n\u001b[1;32m    217\u001b[0m   \u001b[38;5;28;01mreturn\u001b[39;00m \u001b[38;5;28mself\u001b[39m\u001b[38;5;241m.\u001b[39mfunction_type\u001b[38;5;241m.\u001b[39mpack_output(flat_outputs)\n",
      "File \u001b[0;32m~/miniconda3/lib/python3.12/site-packages/tensorflow/python/eager/polymorphic_function/atomic_function.py:251\u001b[0m, in \u001b[0;36mAtomicFunction.call_flat\u001b[0;34m(self, *args)\u001b[0m\n\u001b[1;32m    249\u001b[0m \u001b[38;5;28;01mwith\u001b[39;00m record\u001b[38;5;241m.\u001b[39mstop_recording():\n\u001b[1;32m    250\u001b[0m   \u001b[38;5;28;01mif\u001b[39;00m \u001b[38;5;28mself\u001b[39m\u001b[38;5;241m.\u001b[39m_bound_context\u001b[38;5;241m.\u001b[39mexecuting_eagerly():\n\u001b[0;32m--> 251\u001b[0m     outputs \u001b[38;5;241m=\u001b[39m \u001b[38;5;28;43mself\u001b[39;49m\u001b[38;5;241;43m.\u001b[39;49m\u001b[43m_bound_context\u001b[49m\u001b[38;5;241;43m.\u001b[39;49m\u001b[43mcall_function\u001b[49m\u001b[43m(\u001b[49m\n\u001b[1;32m    252\u001b[0m \u001b[43m        \u001b[49m\u001b[38;5;28;43mself\u001b[39;49m\u001b[38;5;241;43m.\u001b[39;49m\u001b[43mname\u001b[49m\u001b[43m,\u001b[49m\n\u001b[1;32m    253\u001b[0m \u001b[43m        \u001b[49m\u001b[38;5;28;43mlist\u001b[39;49m\u001b[43m(\u001b[49m\u001b[43margs\u001b[49m\u001b[43m)\u001b[49m\u001b[43m,\u001b[49m\n\u001b[1;32m    254\u001b[0m \u001b[43m        \u001b[49m\u001b[38;5;28;43mlen\u001b[39;49m\u001b[43m(\u001b[49m\u001b[38;5;28;43mself\u001b[39;49m\u001b[38;5;241;43m.\u001b[39;49m\u001b[43mfunction_type\u001b[49m\u001b[38;5;241;43m.\u001b[39;49m\u001b[43mflat_outputs\u001b[49m\u001b[43m)\u001b[49m\u001b[43m,\u001b[49m\n\u001b[1;32m    255\u001b[0m \u001b[43m    \u001b[49m\u001b[43m)\u001b[49m\n\u001b[1;32m    256\u001b[0m   \u001b[38;5;28;01melse\u001b[39;00m:\n\u001b[1;32m    257\u001b[0m     outputs \u001b[38;5;241m=\u001b[39m make_call_op_in_graph(\n\u001b[1;32m    258\u001b[0m         \u001b[38;5;28mself\u001b[39m,\n\u001b[1;32m    259\u001b[0m         \u001b[38;5;28mlist\u001b[39m(args),\n\u001b[1;32m    260\u001b[0m         \u001b[38;5;28mself\u001b[39m\u001b[38;5;241m.\u001b[39m_bound_context\u001b[38;5;241m.\u001b[39mfunction_call_options\u001b[38;5;241m.\u001b[39mas_attrs(),\n\u001b[1;32m    261\u001b[0m     )\n",
      "File \u001b[0;32m~/miniconda3/lib/python3.12/site-packages/tensorflow/python/eager/context.py:1683\u001b[0m, in \u001b[0;36mContext.call_function\u001b[0;34m(self, name, tensor_inputs, num_outputs)\u001b[0m\n\u001b[1;32m   1681\u001b[0m cancellation_context \u001b[38;5;241m=\u001b[39m cancellation\u001b[38;5;241m.\u001b[39mcontext()\n\u001b[1;32m   1682\u001b[0m \u001b[38;5;28;01mif\u001b[39;00m cancellation_context \u001b[38;5;129;01mis\u001b[39;00m \u001b[38;5;28;01mNone\u001b[39;00m:\n\u001b[0;32m-> 1683\u001b[0m   outputs \u001b[38;5;241m=\u001b[39m \u001b[43mexecute\u001b[49m\u001b[38;5;241;43m.\u001b[39;49m\u001b[43mexecute\u001b[49m\u001b[43m(\u001b[49m\n\u001b[1;32m   1684\u001b[0m \u001b[43m      \u001b[49m\u001b[43mname\u001b[49m\u001b[38;5;241;43m.\u001b[39;49m\u001b[43mdecode\u001b[49m\u001b[43m(\u001b[49m\u001b[38;5;124;43m\"\u001b[39;49m\u001b[38;5;124;43mutf-8\u001b[39;49m\u001b[38;5;124;43m\"\u001b[39;49m\u001b[43m)\u001b[49m\u001b[43m,\u001b[49m\n\u001b[1;32m   1685\u001b[0m \u001b[43m      \u001b[49m\u001b[43mnum_outputs\u001b[49m\u001b[38;5;241;43m=\u001b[39;49m\u001b[43mnum_outputs\u001b[49m\u001b[43m,\u001b[49m\n\u001b[1;32m   1686\u001b[0m \u001b[43m      \u001b[49m\u001b[43minputs\u001b[49m\u001b[38;5;241;43m=\u001b[39;49m\u001b[43mtensor_inputs\u001b[49m\u001b[43m,\u001b[49m\n\u001b[1;32m   1687\u001b[0m \u001b[43m      \u001b[49m\u001b[43mattrs\u001b[49m\u001b[38;5;241;43m=\u001b[39;49m\u001b[43mattrs\u001b[49m\u001b[43m,\u001b[49m\n\u001b[1;32m   1688\u001b[0m \u001b[43m      \u001b[49m\u001b[43mctx\u001b[49m\u001b[38;5;241;43m=\u001b[39;49m\u001b[38;5;28;43mself\u001b[39;49m\u001b[43m,\u001b[49m\n\u001b[1;32m   1689\u001b[0m \u001b[43m  \u001b[49m\u001b[43m)\u001b[49m\n\u001b[1;32m   1690\u001b[0m \u001b[38;5;28;01melse\u001b[39;00m:\n\u001b[1;32m   1691\u001b[0m   outputs \u001b[38;5;241m=\u001b[39m execute\u001b[38;5;241m.\u001b[39mexecute_with_cancellation(\n\u001b[1;32m   1692\u001b[0m       name\u001b[38;5;241m.\u001b[39mdecode(\u001b[38;5;124m\"\u001b[39m\u001b[38;5;124mutf-8\u001b[39m\u001b[38;5;124m\"\u001b[39m),\n\u001b[1;32m   1693\u001b[0m       num_outputs\u001b[38;5;241m=\u001b[39mnum_outputs,\n\u001b[0;32m   (...)\u001b[0m\n\u001b[1;32m   1697\u001b[0m       cancellation_manager\u001b[38;5;241m=\u001b[39mcancellation_context,\n\u001b[1;32m   1698\u001b[0m   )\n",
      "File \u001b[0;32m~/miniconda3/lib/python3.12/site-packages/tensorflow/python/eager/execute.py:53\u001b[0m, in \u001b[0;36mquick_execute\u001b[0;34m(op_name, num_outputs, inputs, attrs, ctx, name)\u001b[0m\n\u001b[1;32m     51\u001b[0m \u001b[38;5;28;01mtry\u001b[39;00m:\n\u001b[1;32m     52\u001b[0m   ctx\u001b[38;5;241m.\u001b[39mensure_initialized()\n\u001b[0;32m---> 53\u001b[0m   tensors \u001b[38;5;241m=\u001b[39m \u001b[43mpywrap_tfe\u001b[49m\u001b[38;5;241;43m.\u001b[39;49m\u001b[43mTFE_Py_Execute\u001b[49m\u001b[43m(\u001b[49m\u001b[43mctx\u001b[49m\u001b[38;5;241;43m.\u001b[39;49m\u001b[43m_handle\u001b[49m\u001b[43m,\u001b[49m\u001b[43m \u001b[49m\u001b[43mdevice_name\u001b[49m\u001b[43m,\u001b[49m\u001b[43m \u001b[49m\u001b[43mop_name\u001b[49m\u001b[43m,\u001b[49m\n\u001b[1;32m     54\u001b[0m \u001b[43m                                      \u001b[49m\u001b[43minputs\u001b[49m\u001b[43m,\u001b[49m\u001b[43m \u001b[49m\u001b[43mattrs\u001b[49m\u001b[43m,\u001b[49m\u001b[43m \u001b[49m\u001b[43mnum_outputs\u001b[49m\u001b[43m)\u001b[49m\n\u001b[1;32m     55\u001b[0m \u001b[38;5;28;01mexcept\u001b[39;00m core\u001b[38;5;241m.\u001b[39m_NotOkStatusException \u001b[38;5;28;01mas\u001b[39;00m e:\n\u001b[1;32m     56\u001b[0m   \u001b[38;5;28;01mif\u001b[39;00m name \u001b[38;5;129;01mis\u001b[39;00m \u001b[38;5;129;01mnot\u001b[39;00m \u001b[38;5;28;01mNone\u001b[39;00m:\n",
      "\u001b[0;31mKeyboardInterrupt\u001b[0m: "
     ]
    }
   ],
   "source": [
    "# Training model and record the evaluation\n",
    "history = model.fit(X_train,y_train, batch_size=100,\n",
    "                              epochs = 25, validation_data = (X_val,y_val),\n",
    "                              verbose = 1, callbacks=[reduce_lr], shuffle = True)"
   ]
  },
  {
   "cell_type": "markdown",
   "id": "dd24c532-112d-4b0d-9be8-e5c26fd68011",
   "metadata": {},
   "source": [
    "## **Model Evaluation**"
   ]
  },
  {
   "cell_type": "code",
   "execution_count": 21,
   "id": "e27af616-ae18-4d05-be26-27e3cd42d803",
   "metadata": {},
   "outputs": [
    {
     "data": {
      "image/png": "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",
      "text/plain": [
       "<Figure size 1500x800 with 2 Axes>"
=======
    },
    {
      "cell_type": "markdown",
      "id": "dd24c532-112d-4b0d-9be8-e5c26fd68011",
      "metadata": {
        "id": "dd24c532-112d-4b0d-9be8-e5c26fd68011"
      },
      "source": [
        "## **Model Evaluation**"
>>>>>>> 308fa034acc18e90c869d5b8b187ed6b2c1ce258
      ]
    },
    {
      "cell_type": "code",
      "execution_count": 12,
      "id": "e27af616-ae18-4d05-be26-27e3cd42d803",
      "metadata": {
        "id": "e27af616-ae18-4d05-be26-27e3cd42d803",
        "outputId": "9401cb31-d873-4d77-d172-eaa0ef160181",
        "colab": {
          "base_uri": "https://localhost:8080/",
          "height": 665
        }
      },
      "outputs": [
        {
          "output_type": "display_data",
          "data": {
            "text/plain": [
              "<Figure size 1500x800 with 2 Axes>"
            ],
            "image/png": "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\n"
          },
          "metadata": {}
        }
      ],
      "source": [
        "plt.figure(figsize=(15,8))\n",
        "\n",
        "plt.subplot(1, 2, 1)\n",
        "plt.plot(history.history['accuracy'], label='Training Accuracy')\n",
        "plt.plot(history.history['val_accuracy'], label='Validation Accuracy')\n",
        "plt.title('Accuracy During Training')\n",
        "plt.xlabel('Epochs')\n",
        "plt.ylabel('Accuracy')\n",
        "plt.legend()\n",
        "\n",
        "plt.subplot(1, 2, 2)\n",
        "plt.plot(history.history['loss'], label='Training Loss')\n",
        "plt.plot(history.history['val_loss'], label='Validation Loss')\n",
        "plt.title('Loss During Training')\n",
        "plt.xlabel('Epochs')\n",
        "plt.ylabel('Loss')\n",
        "plt.legend()\n",
        "\n",
        "plt.show()"
      ]
    },
    {
      "cell_type": "code",
      "execution_count": 13,
      "id": "375a8157-d44b-4630-884b-b35a75cbda21",
      "metadata": {
        "id": "375a8157-d44b-4630-884b-b35a75cbda21",
        "outputId": "11683b3e-c835-4b66-804a-c6236af0c632",
        "colab": {
          "base_uri": "https://localhost:8080/"
        }
      },
      "outputs": [
        {
          "output_type": "stream",
          "name": "stdout",
          "text": [
            "\u001b[1m875/875\u001b[0m \u001b[32m━━━━━━━━━━━━━━━━━━━━\u001b[0m\u001b[37m\u001b[0m \u001b[1m2s\u001b[0m 1ms/step\n"
          ]
        },
        {
          "output_type": "execute_result",
          "data": {
            "text/plain": [
              "array([[1.09304452e-14, 1.05973735e-16, 1.00000000e+00, ...,\n",
              "        2.05384711e-12, 4.23588387e-15, 5.66948798e-17],\n",
              "       [1.00000000e+00, 4.97854633e-13, 4.32623437e-10, ...,\n",
              "        5.95070868e-11, 2.96617630e-13, 1.00717579e-12],\n",
              "       [2.07540365e-12, 2.13055962e-10, 5.07053510e-10, ...,\n",
              "        1.96335606e-07, 1.29048749e-06, 9.99998212e-01],\n",
              "       ...,\n",
              "       [1.77884334e-20, 1.08208724e-15, 5.55979298e-15, ...,\n",
              "        2.61559115e-16, 5.54034967e-14, 6.62068124e-14],\n",
              "       [2.40379661e-11, 4.14113535e-11, 1.58009147e-10, ...,\n",
              "        3.72131090e-08, 5.83378346e-10, 9.99995112e-01],\n",
              "       [1.58722766e-18, 2.18507245e-18, 1.00000000e+00, ...,\n",
              "        7.79737535e-15, 3.11958548e-13, 1.60675843e-18]], dtype=float32)"
            ]
          },
          "metadata": {},
          "execution_count": 13
        }
      ],
      "source": [
        "y_pred = model.predict(X_Test)\n",
        "y_pred"
      ]
    },
    {
      "cell_type": "code",
      "execution_count": 14,
      "id": "ba424654-651d-4a29-a56f-76d72c218b9e",
      "metadata": {
        "id": "ba424654-651d-4a29-a56f-76d72c218b9e"
      },
      "outputs": [],
      "source": [
        "predicted_label = np.argmax(y_pred, axis=1)"
      ]
    },
    {
      "cell_type": "code",
      "execution_count": 15,
      "id": "5128fc9c-54c9-4760-9af5-d64f2279b9d1",
      "metadata": {
        "id": "5128fc9c-54c9-4760-9af5-d64f2279b9d1",
        "outputId": "6bf9bb57-2d67-4466-fbaa-1bcbd544e80d",
        "colab": {
          "base_uri": "https://localhost:8080/"
        }
      },
      "outputs": [
        {
          "output_type": "execute_result",
          "data": {
            "text/plain": [
              "(28000,)"
            ]
          },
          "metadata": {},
          "execution_count": 15
        }
      ],
      "source": [
        "predicted_label.shape"
      ]
    },
    {
      "cell_type": "markdown",
      "id": "1d9ec4a5-5172-4dfc-ba68-9603b3cd6167",
      "metadata": {
        "id": "1d9ec4a5-5172-4dfc-ba68-9603b3cd6167"
      },
      "source": [
        "## **Submit Submission**"
      ]
    },
    {
      "cell_type": "code",
      "execution_count": 16,
      "id": "dba7bbcc-b763-4ddd-8116-fc6e15f11eda",
      "metadata": {
        "id": "dba7bbcc-b763-4ddd-8116-fc6e15f11eda",
        "outputId": "ce3fcd8b-19a7-4135-c024-53838386c419",
        "colab": {
          "base_uri": "https://localhost:8080/",
          "height": 444
        }
      },
      "outputs": [
        {
          "output_type": "execute_result",
          "data": {
            "text/plain": [
              "       ImageId  Label\n",
              "0            1      0\n",
              "1            2      0\n",
              "2            3      0\n",
              "3            4      0\n",
              "4            5      0\n",
              "...        ...    ...\n",
              "27995    27996      0\n",
              "27996    27997      0\n",
              "27997    27998      0\n",
              "27998    27999      0\n",
              "27999    28000      0\n",
              "\n",
              "[28000 rows x 2 columns]"
            ],
            "text/html": [
              "\n",
              "  <div id=\"df-1eb97a68-9ef0-4172-a17b-ba0db3cf4501\" class=\"colab-df-container\">\n",
              "    <div>\n",
              "<style scoped>\n",
              "    .dataframe tbody tr th:only-of-type {\n",
              "        vertical-align: middle;\n",
              "    }\n",
              "\n",
              "    .dataframe tbody tr th {\n",
              "        vertical-align: top;\n",
              "    }\n",
              "\n",
              "    .dataframe thead th {\n",
              "        text-align: right;\n",
              "    }\n",
              "</style>\n",
              "<table border=\"1\" class=\"dataframe\">\n",
              "  <thead>\n",
              "    <tr style=\"text-align: right;\">\n",
              "      <th></th>\n",
              "      <th>ImageId</th>\n",
              "      <th>Label</th>\n",
              "    </tr>\n",
              "  </thead>\n",
              "  <tbody>\n",
              "    <tr>\n",
              "      <th>0</th>\n",
              "      <td>1</td>\n",
              "      <td>0</td>\n",
              "    </tr>\n",
              "    <tr>\n",
              "      <th>1</th>\n",
              "      <td>2</td>\n",
              "      <td>0</td>\n",
              "    </tr>\n",
              "    <tr>\n",
              "      <th>2</th>\n",
              "      <td>3</td>\n",
              "      <td>0</td>\n",
              "    </tr>\n",
              "    <tr>\n",
              "      <th>3</th>\n",
              "      <td>4</td>\n",
              "      <td>0</td>\n",
              "    </tr>\n",
              "    <tr>\n",
              "      <th>4</th>\n",
              "      <td>5</td>\n",
              "      <td>0</td>\n",
              "    </tr>\n",
              "    <tr>\n",
              "      <th>...</th>\n",
              "      <td>...</td>\n",
              "      <td>...</td>\n",
              "    </tr>\n",
              "    <tr>\n",
              "      <th>27995</th>\n",
              "      <td>27996</td>\n",
              "      <td>0</td>\n",
              "    </tr>\n",
              "    <tr>\n",
              "      <th>27996</th>\n",
              "      <td>27997</td>\n",
              "      <td>0</td>\n",
              "    </tr>\n",
              "    <tr>\n",
              "      <th>27997</th>\n",
              "      <td>27998</td>\n",
              "      <td>0</td>\n",
              "    </tr>\n",
              "    <tr>\n",
              "      <th>27998</th>\n",
              "      <td>27999</td>\n",
              "      <td>0</td>\n",
              "    </tr>\n",
              "    <tr>\n",
              "      <th>27999</th>\n",
              "      <td>28000</td>\n",
              "      <td>0</td>\n",
              "    </tr>\n",
              "  </tbody>\n",
              "</table>\n",
              "<p>28000 rows × 2 columns</p>\n",
              "</div>\n",
              "    <div class=\"colab-df-buttons\">\n",
              "\n",
              "  <div class=\"colab-df-container\">\n",
              "    <button class=\"colab-df-convert\" onclick=\"convertToInteractive('df-1eb97a68-9ef0-4172-a17b-ba0db3cf4501')\"\n",
              "            title=\"Convert this dataframe to an interactive table.\"\n",
              "            style=\"display:none;\">\n",
              "\n",
              "  <svg xmlns=\"http://www.w3.org/2000/svg\" height=\"24px\" viewBox=\"0 -960 960 960\">\n",
              "    <path d=\"M120-120v-720h720v720H120Zm60-500h600v-160H180v160Zm220 220h160v-160H400v160Zm0 220h160v-160H400v160ZM180-400h160v-160H180v160Zm440 0h160v-160H620v160ZM180-180h160v-160H180v160Zm440 0h160v-160H620v160Z\"/>\n",
              "  </svg>\n",
              "    </button>\n",
              "\n",
              "  <style>\n",
              "    .colab-df-container {\n",
              "      display:flex;\n",
              "      gap: 12px;\n",
              "    }\n",
              "\n",
              "    .colab-df-convert {\n",
              "      background-color: #E8F0FE;\n",
              "      border: none;\n",
              "      border-radius: 50%;\n",
              "      cursor: pointer;\n",
              "      display: none;\n",
              "      fill: #1967D2;\n",
              "      height: 32px;\n",
              "      padding: 0 0 0 0;\n",
              "      width: 32px;\n",
              "    }\n",
              "\n",
              "    .colab-df-convert:hover {\n",
              "      background-color: #E2EBFA;\n",
              "      box-shadow: 0px 1px 2px rgba(60, 64, 67, 0.3), 0px 1px 3px 1px rgba(60, 64, 67, 0.15);\n",
              "      fill: #174EA6;\n",
              "    }\n",
              "\n",
              "    .colab-df-buttons div {\n",
              "      margin-bottom: 4px;\n",
              "    }\n",
              "\n",
              "    [theme=dark] .colab-df-convert {\n",
              "      background-color: #3B4455;\n",
              "      fill: #D2E3FC;\n",
              "    }\n",
              "\n",
              "    [theme=dark] .colab-df-convert:hover {\n",
              "      background-color: #434B5C;\n",
              "      box-shadow: 0px 1px 3px 1px rgba(0, 0, 0, 0.15);\n",
              "      filter: drop-shadow(0px 1px 2px rgba(0, 0, 0, 0.3));\n",
              "      fill: #FFFFFF;\n",
              "    }\n",
              "  </style>\n",
              "\n",
              "    <script>\n",
              "      const buttonEl =\n",
              "        document.querySelector('#df-1eb97a68-9ef0-4172-a17b-ba0db3cf4501 button.colab-df-convert');\n",
              "      buttonEl.style.display =\n",
              "        google.colab.kernel.accessAllowed ? 'block' : 'none';\n",
              "\n",
              "      async function convertToInteractive(key) {\n",
              "        const element = document.querySelector('#df-1eb97a68-9ef0-4172-a17b-ba0db3cf4501');\n",
              "        const dataTable =\n",
              "          await google.colab.kernel.invokeFunction('convertToInteractive',\n",
              "                                                    [key], {});\n",
              "        if (!dataTable) return;\n",
              "\n",
              "        const docLinkHtml = 'Like what you see? Visit the ' +\n",
              "          '<a target=\"_blank\" href=https://colab.research.google.com/notebooks/data_table.ipynb>data table notebook</a>'\n",
              "          + ' to learn more about interactive tables.';\n",
              "        element.innerHTML = '';\n",
              "        dataTable['output_type'] = 'display_data';\n",
              "        await google.colab.output.renderOutput(dataTable, element);\n",
              "        const docLink = document.createElement('div');\n",
              "        docLink.innerHTML = docLinkHtml;\n",
              "        element.appendChild(docLink);\n",
              "      }\n",
              "    </script>\n",
              "  </div>\n",
              "\n",
              "\n",
              "<div id=\"df-e6446af5-97dd-434f-bc6e-58fb6a390225\">\n",
              "  <button class=\"colab-df-quickchart\" onclick=\"quickchart('df-e6446af5-97dd-434f-bc6e-58fb6a390225')\"\n",
              "            title=\"Suggest charts\"\n",
              "            style=\"display:none;\">\n",
              "\n",
              "<svg xmlns=\"http://www.w3.org/2000/svg\" height=\"24px\"viewBox=\"0 0 24 24\"\n",
              "     width=\"24px\">\n",
              "    <g>\n",
              "        <path d=\"M19 3H5c-1.1 0-2 .9-2 2v14c0 1.1.9 2 2 2h14c1.1 0 2-.9 2-2V5c0-1.1-.9-2-2-2zM9 17H7v-7h2v7zm4 0h-2V7h2v10zm4 0h-2v-4h2v4z\"/>\n",
              "    </g>\n",
              "</svg>\n",
              "  </button>\n",
              "\n",
              "<style>\n",
              "  .colab-df-quickchart {\n",
              "      --bg-color: #E8F0FE;\n",
              "      --fill-color: #1967D2;\n",
              "      --hover-bg-color: #E2EBFA;\n",
              "      --hover-fill-color: #174EA6;\n",
              "      --disabled-fill-color: #AAA;\n",
              "      --disabled-bg-color: #DDD;\n",
              "  }\n",
              "\n",
              "  [theme=dark] .colab-df-quickchart {\n",
              "      --bg-color: #3B4455;\n",
              "      --fill-color: #D2E3FC;\n",
              "      --hover-bg-color: #434B5C;\n",
              "      --hover-fill-color: #FFFFFF;\n",
              "      --disabled-bg-color: #3B4455;\n",
              "      --disabled-fill-color: #666;\n",
              "  }\n",
              "\n",
              "  .colab-df-quickchart {\n",
              "    background-color: var(--bg-color);\n",
              "    border: none;\n",
              "    border-radius: 50%;\n",
              "    cursor: pointer;\n",
              "    display: none;\n",
              "    fill: var(--fill-color);\n",
              "    height: 32px;\n",
              "    padding: 0;\n",
              "    width: 32px;\n",
              "  }\n",
              "\n",
              "  .colab-df-quickchart:hover {\n",
              "    background-color: var(--hover-bg-color);\n",
              "    box-shadow: 0 1px 2px rgba(60, 64, 67, 0.3), 0 1px 3px 1px rgba(60, 64, 67, 0.15);\n",
              "    fill: var(--button-hover-fill-color);\n",
              "  }\n",
              "\n",
              "  .colab-df-quickchart-complete:disabled,\n",
              "  .colab-df-quickchart-complete:disabled:hover {\n",
              "    background-color: var(--disabled-bg-color);\n",
              "    fill: var(--disabled-fill-color);\n",
              "    box-shadow: none;\n",
              "  }\n",
              "\n",
              "  .colab-df-spinner {\n",
              "    border: 2px solid var(--fill-color);\n",
              "    border-color: transparent;\n",
              "    border-bottom-color: var(--fill-color);\n",
              "    animation:\n",
              "      spin 1s steps(1) infinite;\n",
              "  }\n",
              "\n",
              "  @keyframes spin {\n",
              "    0% {\n",
              "      border-color: transparent;\n",
              "      border-bottom-color: var(--fill-color);\n",
              "      border-left-color: var(--fill-color);\n",
              "    }\n",
              "    20% {\n",
              "      border-color: transparent;\n",
              "      border-left-color: var(--fill-color);\n",
              "      border-top-color: var(--fill-color);\n",
              "    }\n",
              "    30% {\n",
              "      border-color: transparent;\n",
              "      border-left-color: var(--fill-color);\n",
              "      border-top-color: var(--fill-color);\n",
              "      border-right-color: var(--fill-color);\n",
              "    }\n",
              "    40% {\n",
              "      border-color: transparent;\n",
              "      border-right-color: var(--fill-color);\n",
              "      border-top-color: var(--fill-color);\n",
              "    }\n",
              "    60% {\n",
              "      border-color: transparent;\n",
              "      border-right-color: var(--fill-color);\n",
              "    }\n",
              "    80% {\n",
              "      border-color: transparent;\n",
              "      border-right-color: var(--fill-color);\n",
              "      border-bottom-color: var(--fill-color);\n",
              "    }\n",
              "    90% {\n",
              "      border-color: transparent;\n",
              "      border-bottom-color: var(--fill-color);\n",
              "    }\n",
              "  }\n",
              "</style>\n",
              "\n",
              "  <script>\n",
              "    async function quickchart(key) {\n",
              "      const quickchartButtonEl =\n",
              "        document.querySelector('#' + key + ' button');\n",
              "      quickchartButtonEl.disabled = true;  // To prevent multiple clicks.\n",
              "      quickchartButtonEl.classList.add('colab-df-spinner');\n",
              "      try {\n",
              "        const charts = await google.colab.kernel.invokeFunction(\n",
              "            'suggestCharts', [key], {});\n",
              "      } catch (error) {\n",
              "        console.error('Error during call to suggestCharts:', error);\n",
              "      }\n",
              "      quickchartButtonEl.classList.remove('colab-df-spinner');\n",
              "      quickchartButtonEl.classList.add('colab-df-quickchart-complete');\n",
              "    }\n",
              "    (() => {\n",
              "      let quickchartButtonEl =\n",
              "        document.querySelector('#df-e6446af5-97dd-434f-bc6e-58fb6a390225 button');\n",
              "      quickchartButtonEl.style.display =\n",
              "        google.colab.kernel.accessAllowed ? 'block' : 'none';\n",
              "    })();\n",
              "  </script>\n",
              "</div>\n",
              "\n",
              "  <div id=\"id_26e490c4-0b99-43bc-9435-0692abc5a0d8\">\n",
              "    <style>\n",
              "      .colab-df-generate {\n",
              "        background-color: #E8F0FE;\n",
              "        border: none;\n",
              "        border-radius: 50%;\n",
              "        cursor: pointer;\n",
              "        display: none;\n",
              "        fill: #1967D2;\n",
              "        height: 32px;\n",
              "        padding: 0 0 0 0;\n",
              "        width: 32px;\n",
              "      }\n",
              "\n",
              "      .colab-df-generate:hover {\n",
              "        background-color: #E2EBFA;\n",
              "        box-shadow: 0px 1px 2px rgba(60, 64, 67, 0.3), 0px 1px 3px 1px rgba(60, 64, 67, 0.15);\n",
              "        fill: #174EA6;\n",
              "      }\n",
              "\n",
              "      [theme=dark] .colab-df-generate {\n",
              "        background-color: #3B4455;\n",
              "        fill: #D2E3FC;\n",
              "      }\n",
              "\n",
              "      [theme=dark] .colab-df-generate:hover {\n",
              "        background-color: #434B5C;\n",
              "        box-shadow: 0px 1px 3px 1px rgba(0, 0, 0, 0.15);\n",
              "        filter: drop-shadow(0px 1px 2px rgba(0, 0, 0, 0.3));\n",
              "        fill: #FFFFFF;\n",
              "      }\n",
              "    </style>\n",
              "    <button class=\"colab-df-generate\" onclick=\"generateWithVariable('sampel_submission')\"\n",
              "            title=\"Generate code using this dataframe.\"\n",
              "            style=\"display:none;\">\n",
              "\n",
              "  <svg xmlns=\"http://www.w3.org/2000/svg\" height=\"24px\"viewBox=\"0 0 24 24\"\n",
              "       width=\"24px\">\n",
              "    <path d=\"M7,19H8.4L18.45,9,17,7.55,7,17.6ZM5,21V16.75L18.45,3.32a2,2,0,0,1,2.83,0l1.4,1.43a1.91,1.91,0,0,1,.58,1.4,1.91,1.91,0,0,1-.58,1.4L9.25,21ZM18.45,9,17,7.55Zm-12,3A5.31,5.31,0,0,0,4.9,8.1,5.31,5.31,0,0,0,1,6.5,5.31,5.31,0,0,0,4.9,4.9,5.31,5.31,0,0,0,6.5,1,5.31,5.31,0,0,0,8.1,4.9,5.31,5.31,0,0,0,12,6.5,5.46,5.46,0,0,0,6.5,12Z\"/>\n",
              "  </svg>\n",
              "    </button>\n",
              "    <script>\n",
              "      (() => {\n",
              "      const buttonEl =\n",
              "        document.querySelector('#id_26e490c4-0b99-43bc-9435-0692abc5a0d8 button.colab-df-generate');\n",
              "      buttonEl.style.display =\n",
              "        google.colab.kernel.accessAllowed ? 'block' : 'none';\n",
              "\n",
              "      buttonEl.onclick = () => {\n",
              "        google.colab.notebook.generateWithVariable('sampel_submission');\n",
              "      }\n",
              "      })();\n",
              "    </script>\n",
              "  </div>\n",
              "\n",
              "    </div>\n",
              "  </div>\n"
            ],
            "application/vnd.google.colaboratory.intrinsic+json": {
              "type": "dataframe",
              "variable_name": "sampel_submission",
              "summary": "{\n  \"name\": \"sampel_submission\",\n  \"rows\": 28000,\n  \"fields\": [\n    {\n      \"column\": \"ImageId\",\n      \"properties\": {\n        \"dtype\": \"number\",\n        \"std\": 8083,\n        \"min\": 1,\n        \"max\": 28000,\n        \"num_unique_values\": 28000,\n        \"samples\": [\n          18407,\n          5035,\n          18326\n        ],\n        \"semantic_type\": \"\",\n        \"description\": \"\"\n      }\n    },\n    {\n      \"column\": \"Label\",\n      \"properties\": {\n        \"dtype\": \"number\",\n        \"std\": 0,\n        \"min\": 0,\n        \"max\": 0,\n        \"num_unique_values\": 1,\n        \"samples\": [\n          0\n        ],\n        \"semantic_type\": \"\",\n        \"description\": \"\"\n      }\n    }\n  ]\n}"
            }
          },
          "metadata": {},
          "execution_count": 16
        }
      ],
      "source": [
        "sampel_submission = pd.read_csv('sample_submission.csv')\n",
        "sampel_submission"
      ]
    },
    {
      "cell_type": "code",
      "execution_count": 17,
      "id": "77a1a0ca-595a-4dd3-b9cd-92e2267a2136",
      "metadata": {
        "id": "77a1a0ca-595a-4dd3-b9cd-92e2267a2136"
      },
      "outputs": [],
      "source": [
        "sampel_submission['Label'] = predicted_label"
      ]
    },
    {
      "cell_type": "code",
      "execution_count": 18,
      "id": "e71efb03-f128-4ab5-ba17-c9d5ad075029",
      "metadata": {
        "id": "e71efb03-f128-4ab5-ba17-c9d5ad075029",
        "outputId": "fd83f422-8b48-469c-f651-3d11d380b650",
        "colab": {
          "base_uri": "https://localhost:8080/"
        }
      },
      "outputs": [
        {
          "output_type": "stream",
          "name": "stdout",
          "text": [
            "Submission Files Created!\n"
          ]
        }
      ],
      "source": [
        "sampel_submission.to_csv('Submission_Final.csv', index=False)\n",
        "print('Submission Files Created!')"
      ]
    }
  ],
  "metadata": {
    "kernelspec": {
      "display_name": "Python 3",
      "name": "python3"
    },
    "language_info": {
      "codemirror_mode": {
        "name": "ipython",
        "version": 3
      },
      "file_extension": ".py",
      "mimetype": "text/x-python",
      "name": "python",
      "nbconvert_exporter": "python",
      "pygments_lexer": "ipython3",
      "version": "3.12.7"
    },
    "colab": {
      "provenance": [],
      "gpuType": "T4"
    },
    "accelerator": "GPU"
  },
  "nbformat": 4,
  "nbformat_minor": 5
}